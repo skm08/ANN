{
  "nbformat": 4,
  "nbformat_minor": 0,
  "metadata": {
    "colab": {
      "provenance": [],
      "gpuType": "T4",
      "toc_visible": true,
      "authorship_tag": "ABX9TyNbv2YIzgvE8NeJW7Ig6jxS",
      "include_colab_link": true
    },
    "kernelspec": {
      "name": "python3",
      "display_name": "Python 3"
    },
    "language_info": {
      "name": "python"
    },
    "accelerator": "GPU"
  },
  "cells": [
    {
      "cell_type": "markdown",
      "metadata": {
        "id": "view-in-github",
        "colab_type": "text"
      },
      "source": [
        "<a href=\"https://colab.research.google.com/github/skm08/ANN/blob/main/TBR_Runs_ANN_Model.ipynb\" target=\"_parent\"><img src=\"https://colab.research.google.com/assets/colab-badge.svg\" alt=\"Open In Colab\"/></a>"
      ]
    },
    {
      "cell_type": "markdown",
      "source": [
        "# Import Necessary Modules\n",
        "\n",
        "First of all, we need to import some Python Libraries; Numpy and Pandas will facilitate us to analyse and manipulation of our data, Matplotlib and Seaborn for data visualization to find out any anomaly in dataset.\n",
        "\n",
        "Additionaly, we need some other Python Libraries to build our Artificial Neural Network(ANN), in that case we will use  Tensorflow, Keras and Scikit-Learn."
      ],
      "metadata": {
        "id": "yWMYfFHz90m_"
      }
    },
    {
      "cell_type": "code",
      "execution_count": null,
      "metadata": {
        "id": "IHYgdvdcVXVW"
      },
      "outputs": [],
      "source": [
        "import pandas as pd\n",
        "import numpy as np\n",
        "import matplotlib.pyplot as plt\n",
        "import seaborn as sns\n",
        "\n",
        "from tensorflow.keras.models import Sequential\n",
        "from tensorflow.keras.layers import Dense, Activation\n",
        "from tensorflow.keras.optimizers import Adam\n",
        "\n",
        "from sklearn.model_selection import train_test_split\n",
        "from sklearn.preprocessing import MinMaxScaler\n",
        "from sklearn.metrics import mean_squared_error,mean_absolute_error,explained_variance_score\n",
        "\n",
        "from tensorflow.keras.models import load_model"
      ]
    },
    {
      "cell_type": "markdown",
      "source": [
        "# Read The Dataset\n",
        "Now we have to read and load the complete dataset with Python. We will use CSV file format and make Pandas to read and load the Dataset.\n",
        "\n",
        "We have 5 columns and 368 rows. Make sure there are no Missing Values in the dataset. We will train our ANN Model with these data and after that make the Trained Model predict the Sulfer Conversion Percentage."
      ],
      "metadata": {
        "id": "X0mcvLJuASmq"
      }
    },
    {
      "cell_type": "code",
      "source": [
        "df = pd.read_csv('TBR_Combined.csv')"
      ],
      "metadata": {
        "id": "Sr_m8jaCVrwp"
      },
      "execution_count": null,
      "outputs": []
    },
    {
      "cell_type": "code",
      "source": [
        "df.head()"
      ],
      "metadata": {
        "colab": {
          "base_uri": "https://localhost:8080/",
          "height": 206
        },
        "id": "2-M8ClusV2rE",
        "outputId": "448a6671-3a41-47f8-ffd3-14540af24807"
      },
      "execution_count": null,
      "outputs": [
        {
          "output_type": "execute_result",
          "data": {
            "text/plain": [
              "   LSHV  P    T      Wt  Sulfur_Conversion\n",
              "0     1  1   80  0.4012              45.50\n",
              "1     1  1   90  0.3163              57.03\n",
              "2     1  1  100  0.2340              68.21\n",
              "3     1  1  110  0.1996              72.88\n",
              "4     1  1  120  0.1671              77.30"
            ],
            "text/html": [
              "\n",
              "  <div id=\"df-32a2f707-7c92-4a86-a27b-160d6b963179\" class=\"colab-df-container\">\n",
              "    <div>\n",
              "<style scoped>\n",
              "    .dataframe tbody tr th:only-of-type {\n",
              "        vertical-align: middle;\n",
              "    }\n",
              "\n",
              "    .dataframe tbody tr th {\n",
              "        vertical-align: top;\n",
              "    }\n",
              "\n",
              "    .dataframe thead th {\n",
              "        text-align: right;\n",
              "    }\n",
              "</style>\n",
              "<table border=\"1\" class=\"dataframe\">\n",
              "  <thead>\n",
              "    <tr style=\"text-align: right;\">\n",
              "      <th></th>\n",
              "      <th>LSHV</th>\n",
              "      <th>P</th>\n",
              "      <th>T</th>\n",
              "      <th>Wt</th>\n",
              "      <th>Sulfur_Conversion</th>\n",
              "    </tr>\n",
              "  </thead>\n",
              "  <tbody>\n",
              "    <tr>\n",
              "      <th>0</th>\n",
              "      <td>1</td>\n",
              "      <td>1</td>\n",
              "      <td>80</td>\n",
              "      <td>0.4012</td>\n",
              "      <td>45.50</td>\n",
              "    </tr>\n",
              "    <tr>\n",
              "      <th>1</th>\n",
              "      <td>1</td>\n",
              "      <td>1</td>\n",
              "      <td>90</td>\n",
              "      <td>0.3163</td>\n",
              "      <td>57.03</td>\n",
              "    </tr>\n",
              "    <tr>\n",
              "      <th>2</th>\n",
              "      <td>1</td>\n",
              "      <td>1</td>\n",
              "      <td>100</td>\n",
              "      <td>0.2340</td>\n",
              "      <td>68.21</td>\n",
              "    </tr>\n",
              "    <tr>\n",
              "      <th>3</th>\n",
              "      <td>1</td>\n",
              "      <td>1</td>\n",
              "      <td>110</td>\n",
              "      <td>0.1996</td>\n",
              "      <td>72.88</td>\n",
              "    </tr>\n",
              "    <tr>\n",
              "      <th>4</th>\n",
              "      <td>1</td>\n",
              "      <td>1</td>\n",
              "      <td>120</td>\n",
              "      <td>0.1671</td>\n",
              "      <td>77.30</td>\n",
              "    </tr>\n",
              "  </tbody>\n",
              "</table>\n",
              "</div>\n",
              "    <div class=\"colab-df-buttons\">\n",
              "\n",
              "  <div class=\"colab-df-container\">\n",
              "    <button class=\"colab-df-convert\" onclick=\"convertToInteractive('df-32a2f707-7c92-4a86-a27b-160d6b963179')\"\n",
              "            title=\"Convert this dataframe to an interactive table.\"\n",
              "            style=\"display:none;\">\n",
              "\n",
              "  <svg xmlns=\"http://www.w3.org/2000/svg\" height=\"24px\" viewBox=\"0 -960 960 960\">\n",
              "    <path d=\"M120-120v-720h720v720H120Zm60-500h600v-160H180v160Zm220 220h160v-160H400v160Zm0 220h160v-160H400v160ZM180-400h160v-160H180v160Zm440 0h160v-160H620v160ZM180-180h160v-160H180v160Zm440 0h160v-160H620v160Z\"/>\n",
              "  </svg>\n",
              "    </button>\n",
              "\n",
              "  <style>\n",
              "    .colab-df-container {\n",
              "      display:flex;\n",
              "      gap: 12px;\n",
              "    }\n",
              "\n",
              "    .colab-df-convert {\n",
              "      background-color: #E8F0FE;\n",
              "      border: none;\n",
              "      border-radius: 50%;\n",
              "      cursor: pointer;\n",
              "      display: none;\n",
              "      fill: #1967D2;\n",
              "      height: 32px;\n",
              "      padding: 0 0 0 0;\n",
              "      width: 32px;\n",
              "    }\n",
              "\n",
              "    .colab-df-convert:hover {\n",
              "      background-color: #E2EBFA;\n",
              "      box-shadow: 0px 1px 2px rgba(60, 64, 67, 0.3), 0px 1px 3px 1px rgba(60, 64, 67, 0.15);\n",
              "      fill: #174EA6;\n",
              "    }\n",
              "\n",
              "    .colab-df-buttons div {\n",
              "      margin-bottom: 4px;\n",
              "    }\n",
              "\n",
              "    [theme=dark] .colab-df-convert {\n",
              "      background-color: #3B4455;\n",
              "      fill: #D2E3FC;\n",
              "    }\n",
              "\n",
              "    [theme=dark] .colab-df-convert:hover {\n",
              "      background-color: #434B5C;\n",
              "      box-shadow: 0px 1px 3px 1px rgba(0, 0, 0, 0.15);\n",
              "      filter: drop-shadow(0px 1px 2px rgba(0, 0, 0, 0.3));\n",
              "      fill: #FFFFFF;\n",
              "    }\n",
              "  </style>\n",
              "\n",
              "    <script>\n",
              "      const buttonEl =\n",
              "        document.querySelector('#df-32a2f707-7c92-4a86-a27b-160d6b963179 button.colab-df-convert');\n",
              "      buttonEl.style.display =\n",
              "        google.colab.kernel.accessAllowed ? 'block' : 'none';\n",
              "\n",
              "      async function convertToInteractive(key) {\n",
              "        const element = document.querySelector('#df-32a2f707-7c92-4a86-a27b-160d6b963179');\n",
              "        const dataTable =\n",
              "          await google.colab.kernel.invokeFunction('convertToInteractive',\n",
              "                                                    [key], {});\n",
              "        if (!dataTable) return;\n",
              "\n",
              "        const docLinkHtml = 'Like what you see? Visit the ' +\n",
              "          '<a target=\"_blank\" href=https://colab.research.google.com/notebooks/data_table.ipynb>data table notebook</a>'\n",
              "          + ' to learn more about interactive tables.';\n",
              "        element.innerHTML = '';\n",
              "        dataTable['output_type'] = 'display_data';\n",
              "        await google.colab.output.renderOutput(dataTable, element);\n",
              "        const docLink = document.createElement('div');\n",
              "        docLink.innerHTML = docLinkHtml;\n",
              "        element.appendChild(docLink);\n",
              "      }\n",
              "    </script>\n",
              "  </div>\n",
              "\n",
              "\n",
              "<div id=\"df-7f826942-ba5d-4112-a057-bfb781ac677f\">\n",
              "  <button class=\"colab-df-quickchart\" onclick=\"quickchart('df-7f826942-ba5d-4112-a057-bfb781ac677f')\"\n",
              "            title=\"Suggest charts\"\n",
              "            style=\"display:none;\">\n",
              "\n",
              "<svg xmlns=\"http://www.w3.org/2000/svg\" height=\"24px\"viewBox=\"0 0 24 24\"\n",
              "     width=\"24px\">\n",
              "    <g>\n",
              "        <path d=\"M19 3H5c-1.1 0-2 .9-2 2v14c0 1.1.9 2 2 2h14c1.1 0 2-.9 2-2V5c0-1.1-.9-2-2-2zM9 17H7v-7h2v7zm4 0h-2V7h2v10zm4 0h-2v-4h2v4z\"/>\n",
              "    </g>\n",
              "</svg>\n",
              "  </button>\n",
              "\n",
              "<style>\n",
              "  .colab-df-quickchart {\n",
              "      --bg-color: #E8F0FE;\n",
              "      --fill-color: #1967D2;\n",
              "      --hover-bg-color: #E2EBFA;\n",
              "      --hover-fill-color: #174EA6;\n",
              "      --disabled-fill-color: #AAA;\n",
              "      --disabled-bg-color: #DDD;\n",
              "  }\n",
              "\n",
              "  [theme=dark] .colab-df-quickchart {\n",
              "      --bg-color: #3B4455;\n",
              "      --fill-color: #D2E3FC;\n",
              "      --hover-bg-color: #434B5C;\n",
              "      --hover-fill-color: #FFFFFF;\n",
              "      --disabled-bg-color: #3B4455;\n",
              "      --disabled-fill-color: #666;\n",
              "  }\n",
              "\n",
              "  .colab-df-quickchart {\n",
              "    background-color: var(--bg-color);\n",
              "    border: none;\n",
              "    border-radius: 50%;\n",
              "    cursor: pointer;\n",
              "    display: none;\n",
              "    fill: var(--fill-color);\n",
              "    height: 32px;\n",
              "    padding: 0;\n",
              "    width: 32px;\n",
              "  }\n",
              "\n",
              "  .colab-df-quickchart:hover {\n",
              "    background-color: var(--hover-bg-color);\n",
              "    box-shadow: 0 1px 2px rgba(60, 64, 67, 0.3), 0 1px 3px 1px rgba(60, 64, 67, 0.15);\n",
              "    fill: var(--button-hover-fill-color);\n",
              "  }\n",
              "\n",
              "  .colab-df-quickchart-complete:disabled,\n",
              "  .colab-df-quickchart-complete:disabled:hover {\n",
              "    background-color: var(--disabled-bg-color);\n",
              "    fill: var(--disabled-fill-color);\n",
              "    box-shadow: none;\n",
              "  }\n",
              "\n",
              "  .colab-df-spinner {\n",
              "    border: 2px solid var(--fill-color);\n",
              "    border-color: transparent;\n",
              "    border-bottom-color: var(--fill-color);\n",
              "    animation:\n",
              "      spin 1s steps(1) infinite;\n",
              "  }\n",
              "\n",
              "  @keyframes spin {\n",
              "    0% {\n",
              "      border-color: transparent;\n",
              "      border-bottom-color: var(--fill-color);\n",
              "      border-left-color: var(--fill-color);\n",
              "    }\n",
              "    20% {\n",
              "      border-color: transparent;\n",
              "      border-left-color: var(--fill-color);\n",
              "      border-top-color: var(--fill-color);\n",
              "    }\n",
              "    30% {\n",
              "      border-color: transparent;\n",
              "      border-left-color: var(--fill-color);\n",
              "      border-top-color: var(--fill-color);\n",
              "      border-right-color: var(--fill-color);\n",
              "    }\n",
              "    40% {\n",
              "      border-color: transparent;\n",
              "      border-right-color: var(--fill-color);\n",
              "      border-top-color: var(--fill-color);\n",
              "    }\n",
              "    60% {\n",
              "      border-color: transparent;\n",
              "      border-right-color: var(--fill-color);\n",
              "    }\n",
              "    80% {\n",
              "      border-color: transparent;\n",
              "      border-right-color: var(--fill-color);\n",
              "      border-bottom-color: var(--fill-color);\n",
              "    }\n",
              "    90% {\n",
              "      border-color: transparent;\n",
              "      border-bottom-color: var(--fill-color);\n",
              "    }\n",
              "  }\n",
              "</style>\n",
              "\n",
              "  <script>\n",
              "    async function quickchart(key) {\n",
              "      const quickchartButtonEl =\n",
              "        document.querySelector('#' + key + ' button');\n",
              "      quickchartButtonEl.disabled = true;  // To prevent multiple clicks.\n",
              "      quickchartButtonEl.classList.add('colab-df-spinner');\n",
              "      try {\n",
              "        const charts = await google.colab.kernel.invokeFunction(\n",
              "            'suggestCharts', [key], {});\n",
              "      } catch (error) {\n",
              "        console.error('Error during call to suggestCharts:', error);\n",
              "      }\n",
              "      quickchartButtonEl.classList.remove('colab-df-spinner');\n",
              "      quickchartButtonEl.classList.add('colab-df-quickchart-complete');\n",
              "    }\n",
              "    (() => {\n",
              "      let quickchartButtonEl =\n",
              "        document.querySelector('#df-7f826942-ba5d-4112-a057-bfb781ac677f button');\n",
              "      quickchartButtonEl.style.display =\n",
              "        google.colab.kernel.accessAllowed ? 'block' : 'none';\n",
              "    })();\n",
              "  </script>\n",
              "</div>\n",
              "\n",
              "    </div>\n",
              "  </div>\n"
            ]
          },
          "metadata": {},
          "execution_count": 3
        }
      ]
    },
    {
      "cell_type": "code",
      "source": [
        "df.shape"
      ],
      "metadata": {
        "colab": {
          "base_uri": "https://localhost:8080/"
        },
        "id": "QgGQ9M1fWOb1",
        "outputId": "42efc3a0-0f6e-44bd-97e6-0bbeda30ab18"
      },
      "execution_count": null,
      "outputs": [
        {
          "output_type": "execute_result",
          "data": {
            "text/plain": [
              "(368, 5)"
            ]
          },
          "metadata": {},
          "execution_count": 4
        }
      ]
    },
    {
      "cell_type": "code",
      "source": [
        "df.columns"
      ],
      "metadata": {
        "colab": {
          "base_uri": "https://localhost:8080/"
        },
        "id": "VH1Kh110V6aP",
        "outputId": "94cdad80-abdc-4e97-f76d-7e854d137c1d"
      },
      "execution_count": null,
      "outputs": [
        {
          "output_type": "execute_result",
          "data": {
            "text/plain": [
              "Index(['LSHV', 'P', 'T', 'Wt', 'Sulfur_Conversion'], dtype='object')"
            ]
          },
          "metadata": {},
          "execution_count": 5
        }
      ]
    },
    {
      "cell_type": "markdown",
      "source": [
        "# Seperate The Sulfer Conversion Column\n",
        "In this state we are going to spilt up the dataset. We will keep the Sulfer Conversion Column in 'y' variable and rest of the data in 'X' variable. This is because Sulfer Conversion Column is our target column that we our ANN Model is going to predict."
      ],
      "metadata": {
        "id": "S2MLR0qbDjos"
      }
    },
    {
      "cell_type": "code",
      "source": [
        "X = df.drop('Sulfur_Conversion',axis=1)\n",
        "y = df['Sulfur_Conversion']"
      ],
      "metadata": {
        "id": "_Bi3x6kMV_vZ"
      },
      "execution_count": null,
      "outputs": []
    },
    {
      "cell_type": "markdown",
      "source": [
        "# Train and Test Section\n",
        "Now we will use Scikit-Learn to split again out dataset into Train and test section.\n",
        "\n",
        "We have 368 rows and will take 20 percent that is 368 * 0.2 = 73 Rows for out Testing purpose. More clearly, We will use 80% of total data to train our ANN Model and rest 20% data will use to evaluate the Model Performence.\n",
        "\n",
        "Official documentation:\n",
        "https://scikit-learn.org/stable/modules/generated/sklearn.model_selection.train_test_split.html"
      ],
      "metadata": {
        "id": "ys1ngd7YFG3-"
      }
    },
    {
      "cell_type": "code",
      "source": [
        "X_train, X_test, y_train, y_test = train_test_split(X,y,test_size=0.2,random_state=101)"
      ],
      "metadata": {
        "id": "wZZ-iW92WGMY"
      },
      "execution_count": null,
      "outputs": []
    },
    {
      "cell_type": "markdown",
      "source": [
        "# Normalization\n",
        "Now we are going to scale our train and test data, for this we will use MinMaxScaler function from Scikit-Learn. Note that we use we have to use Fit and Transform to scale our Train dataset but use only Transform function for Train dataset.\n",
        "\n",
        "**Official documentation:**\n",
        "https://scikit-learn.org/stable/modules/generated/sklearn.preprocessing.MinMaxScaler.html"
      ],
      "metadata": {
        "id": "bPMz8ILJGqlN"
      }
    },
    {
      "cell_type": "code",
      "source": [
        "scaler = MinMaxScaler()"
      ],
      "metadata": {
        "id": "GmNe5yB4WkNA"
      },
      "execution_count": null,
      "outputs": []
    },
    {
      "cell_type": "code",
      "source": [
        "X_train= scaler.fit_transform(X_train)"
      ],
      "metadata": {
        "id": "QlgAIoTsWnFH"
      },
      "execution_count": null,
      "outputs": []
    },
    {
      "cell_type": "code",
      "source": [
        "X_test = scaler.transform(X_test)"
      ],
      "metadata": {
        "id": "sSD1TblzXUMs"
      },
      "execution_count": null,
      "outputs": []
    },
    {
      "cell_type": "markdown",
      "source": [
        "# ANN Model\n",
        "The most amazing part we are going to do now. Till now we have preprocessed out dataset to feed into ANN Model. Now we will use Tensorflow and Keras to build the ANN Model. Here we used 5 layers with 5 Neurons along with Activation, Optimizer and Loss function that will facilate us to evaluate our Model performence.\n",
        "\n",
        "Official Documentation:\n",
        "https://keras.io/guides/sequential_model/"
      ],
      "metadata": {
        "id": "oNAKcZGCHUQL"
      }
    },
    {
      "cell_type": "code",
      "source": [
        "model = Sequential()\n",
        "\n",
        "model.add(Dense(5,activation='relu'))\n",
        "model.add(Dense(5,activation='relu'))\n",
        "model.add(Dense(5,activation='relu'))\n",
        "model.add(Dense(5,activation='relu'))\n",
        "model.add(Dense(1))\n",
        "\n",
        "model.compile(optimizer='adam',loss='mse')"
      ],
      "metadata": {
        "id": "B6_Pow85XVeG"
      },
      "execution_count": null,
      "outputs": []
    },
    {
      "cell_type": "markdown",
      "source": [
        "# Train the Model\n",
        "The crucial part here is to set batch size and number of epochs. Batch size means how much data we allow the model to train at a time. You can check the performance by changing the parameters. Of course make sure to use GPU to make faster training. Don't hesitate to knock me if you encounter any problem."
      ],
      "metadata": {
        "id": "crT9VuQRIOqD"
      }
    },
    {
      "cell_type": "code",
      "source": [
        "model.fit(x=X_train,y=y_train.values,\n",
        "          validation_data=(X_test,y_test.values),\n",
        "          batch_size=4,epochs=400)"
      ],
      "metadata": {
        "colab": {
          "base_uri": "https://localhost:8080/"
        },
        "id": "YkYSzilEXxXk",
        "outputId": "f2028562-26f0-4fc3-9a47-c75261c5b509"
      },
      "execution_count": null,
      "outputs": [
        {
          "output_type": "stream",
          "name": "stdout",
          "text": [
            "Epoch 1/400\n",
            "74/74 [==============================] - 5s 7ms/step - loss: 3692.3384 - val_loss: 3898.1946\n",
            "Epoch 2/400\n",
            "74/74 [==============================] - 0s 5ms/step - loss: 3622.4775 - val_loss: 3792.3086\n",
            "Epoch 3/400\n",
            "74/74 [==============================] - 0s 5ms/step - loss: 3423.1270 - val_loss: 3431.1853\n",
            "Epoch 4/400\n",
            "74/74 [==============================] - 0s 4ms/step - loss: 2734.9321 - val_loss: 2309.6130\n",
            "Epoch 5/400\n",
            "74/74 [==============================] - 0s 4ms/step - loss: 1375.6500 - val_loss: 830.4892\n",
            "Epoch 6/400\n",
            "74/74 [==============================] - 0s 4ms/step - loss: 449.7809 - val_loss: 401.5500\n",
            "Epoch 7/400\n",
            "74/74 [==============================] - 0s 5ms/step - loss: 329.0794 - val_loss: 351.5880\n",
            "Epoch 8/400\n",
            "74/74 [==============================] - 0s 4ms/step - loss: 294.4169 - val_loss: 316.9714\n",
            "Epoch 9/400\n",
            "74/74 [==============================] - 0s 4ms/step - loss: 263.5977 - val_loss: 281.9245\n",
            "Epoch 10/400\n",
            "74/74 [==============================] - 0s 4ms/step - loss: 234.8803 - val_loss: 248.6348\n",
            "Epoch 11/400\n",
            "74/74 [==============================] - 0s 4ms/step - loss: 206.9168 - val_loss: 219.1482\n",
            "Epoch 12/400\n",
            "74/74 [==============================] - 0s 5ms/step - loss: 183.0907 - val_loss: 194.1267\n",
            "Epoch 13/400\n",
            "74/74 [==============================] - 0s 4ms/step - loss: 159.3912 - val_loss: 169.6896\n",
            "Epoch 14/400\n",
            "74/74 [==============================] - 0s 4ms/step - loss: 137.5022 - val_loss: 146.3452\n",
            "Epoch 15/400\n",
            "74/74 [==============================] - 0s 5ms/step - loss: 117.8944 - val_loss: 126.1364\n",
            "Epoch 16/400\n",
            "74/74 [==============================] - 0s 4ms/step - loss: 101.4638 - val_loss: 107.6495\n",
            "Epoch 17/400\n",
            "74/74 [==============================] - 0s 4ms/step - loss: 84.3566 - val_loss: 90.6375\n",
            "Epoch 18/400\n",
            "74/74 [==============================] - 0s 4ms/step - loss: 70.2504 - val_loss: 75.0467\n",
            "Epoch 19/400\n",
            "74/74 [==============================] - 0s 4ms/step - loss: 57.8236 - val_loss: 61.8593\n",
            "Epoch 20/400\n",
            "74/74 [==============================] - 0s 4ms/step - loss: 47.8081 - val_loss: 51.3323\n",
            "Epoch 21/400\n",
            "74/74 [==============================] - 0s 4ms/step - loss: 39.0926 - val_loss: 42.6480\n",
            "Epoch 22/400\n",
            "74/74 [==============================] - 0s 5ms/step - loss: 32.1006 - val_loss: 37.4911\n",
            "Epoch 23/400\n",
            "74/74 [==============================] - 0s 6ms/step - loss: 27.5200 - val_loss: 29.7121\n",
            "Epoch 24/400\n",
            "74/74 [==============================] - 0s 6ms/step - loss: 22.5970 - val_loss: 25.8999\n",
            "Epoch 25/400\n",
            "74/74 [==============================] - 0s 6ms/step - loss: 20.5377 - val_loss: 22.5258\n",
            "Epoch 26/400\n",
            "74/74 [==============================] - 0s 6ms/step - loss: 18.2875 - val_loss: 20.6062\n",
            "Epoch 27/400\n",
            "74/74 [==============================] - 0s 6ms/step - loss: 17.0383 - val_loss: 18.6644\n",
            "Epoch 28/400\n",
            "74/74 [==============================] - 0s 6ms/step - loss: 15.9223 - val_loss: 17.8185\n",
            "Epoch 29/400\n",
            "74/74 [==============================] - 0s 5ms/step - loss: 15.6006 - val_loss: 17.0684\n",
            "Epoch 30/400\n",
            "74/74 [==============================] - 0s 4ms/step - loss: 15.0661 - val_loss: 16.4161\n",
            "Epoch 31/400\n",
            "74/74 [==============================] - 0s 4ms/step - loss: 14.6923 - val_loss: 16.2035\n",
            "Epoch 32/400\n",
            "74/74 [==============================] - 0s 4ms/step - loss: 14.3997 - val_loss: 15.7008\n",
            "Epoch 33/400\n",
            "74/74 [==============================] - 0s 4ms/step - loss: 14.2027 - val_loss: 15.6153\n",
            "Epoch 34/400\n",
            "74/74 [==============================] - 0s 4ms/step - loss: 14.1360 - val_loss: 15.2125\n",
            "Epoch 35/400\n",
            "74/74 [==============================] - 0s 4ms/step - loss: 13.8298 - val_loss: 15.0559\n",
            "Epoch 36/400\n",
            "74/74 [==============================] - 0s 4ms/step - loss: 13.6420 - val_loss: 14.9073\n",
            "Epoch 37/400\n",
            "74/74 [==============================] - 0s 4ms/step - loss: 13.5990 - val_loss: 15.1506\n",
            "Epoch 38/400\n",
            "74/74 [==============================] - 0s 4ms/step - loss: 13.6881 - val_loss: 14.9049\n",
            "Epoch 39/400\n",
            "74/74 [==============================] - 0s 4ms/step - loss: 13.5793 - val_loss: 14.6497\n",
            "Epoch 40/400\n",
            "74/74 [==============================] - 0s 4ms/step - loss: 13.4816 - val_loss: 15.0534\n",
            "Epoch 41/400\n",
            "74/74 [==============================] - 0s 4ms/step - loss: 13.1935 - val_loss: 14.5074\n",
            "Epoch 42/400\n",
            "74/74 [==============================] - 0s 4ms/step - loss: 13.1914 - val_loss: 14.4406\n",
            "Epoch 43/400\n",
            "74/74 [==============================] - 0s 4ms/step - loss: 13.1053 - val_loss: 14.1759\n",
            "Epoch 44/400\n",
            "74/74 [==============================] - 0s 4ms/step - loss: 13.0487 - val_loss: 14.0774\n",
            "Epoch 45/400\n",
            "74/74 [==============================] - 0s 4ms/step - loss: 13.1496 - val_loss: 14.3479\n",
            "Epoch 46/400\n",
            "74/74 [==============================] - 0s 4ms/step - loss: 12.9038 - val_loss: 13.9446\n",
            "Epoch 47/400\n",
            "74/74 [==============================] - 0s 4ms/step - loss: 12.9573 - val_loss: 13.8683\n",
            "Epoch 48/400\n",
            "74/74 [==============================] - 0s 4ms/step - loss: 12.8629 - val_loss: 13.7310\n",
            "Epoch 49/400\n",
            "74/74 [==============================] - 0s 4ms/step - loss: 12.8862 - val_loss: 13.6906\n",
            "Epoch 50/400\n",
            "74/74 [==============================] - 0s 4ms/step - loss: 12.6276 - val_loss: 13.5399\n",
            "Epoch 51/400\n",
            "74/74 [==============================] - 0s 4ms/step - loss: 12.5673 - val_loss: 13.7083\n",
            "Epoch 52/400\n",
            "74/74 [==============================] - 0s 4ms/step - loss: 12.4551 - val_loss: 13.4600\n",
            "Epoch 53/400\n",
            "74/74 [==============================] - 0s 4ms/step - loss: 12.5791 - val_loss: 13.2966\n",
            "Epoch 54/400\n",
            "74/74 [==============================] - 0s 4ms/step - loss: 12.3276 - val_loss: 13.2687\n",
            "Epoch 55/400\n",
            "74/74 [==============================] - 0s 4ms/step - loss: 11.9284 - val_loss: 16.5781\n",
            "Epoch 56/400\n",
            "74/74 [==============================] - 0s 4ms/step - loss: 12.8581 - val_loss: 12.9031\n",
            "Epoch 57/400\n",
            "74/74 [==============================] - 0s 4ms/step - loss: 12.1742 - val_loss: 12.9212\n",
            "Epoch 58/400\n",
            "74/74 [==============================] - 0s 4ms/step - loss: 11.7527 - val_loss: 13.3979\n",
            "Epoch 59/400\n",
            "74/74 [==============================] - 0s 4ms/step - loss: 12.4982 - val_loss: 12.7637\n",
            "Epoch 60/400\n",
            "74/74 [==============================] - 0s 4ms/step - loss: 11.8643 - val_loss: 12.7128\n",
            "Epoch 61/400\n",
            "74/74 [==============================] - 0s 5ms/step - loss: 12.0171 - val_loss: 12.4956\n",
            "Epoch 62/400\n",
            "74/74 [==============================] - 0s 6ms/step - loss: 11.7152 - val_loss: 12.5116\n",
            "Epoch 63/400\n",
            "74/74 [==============================] - 0s 6ms/step - loss: 12.0765 - val_loss: 12.3684\n",
            "Epoch 64/400\n",
            "74/74 [==============================] - 0s 6ms/step - loss: 11.4316 - val_loss: 12.3737\n",
            "Epoch 65/400\n",
            "74/74 [==============================] - 0s 6ms/step - loss: 11.4727 - val_loss: 12.2586\n",
            "Epoch 66/400\n",
            "74/74 [==============================] - 0s 6ms/step - loss: 11.3101 - val_loss: 12.0792\n",
            "Epoch 67/400\n",
            "74/74 [==============================] - 0s 6ms/step - loss: 11.4786 - val_loss: 12.0996\n",
            "Epoch 68/400\n",
            "74/74 [==============================] - 0s 5ms/step - loss: 11.4195 - val_loss: 12.0176\n",
            "Epoch 69/400\n",
            "74/74 [==============================] - 0s 4ms/step - loss: 11.2533 - val_loss: 11.8347\n",
            "Epoch 70/400\n",
            "74/74 [==============================] - 0s 5ms/step - loss: 11.3043 - val_loss: 11.8596\n",
            "Epoch 71/400\n",
            "74/74 [==============================] - 0s 4ms/step - loss: 11.2233 - val_loss: 11.7040\n",
            "Epoch 72/400\n",
            "74/74 [==============================] - 0s 4ms/step - loss: 10.8219 - val_loss: 11.6014\n",
            "Epoch 73/400\n",
            "74/74 [==============================] - 0s 5ms/step - loss: 10.7278 - val_loss: 11.8846\n",
            "Epoch 74/400\n",
            "74/74 [==============================] - 0s 4ms/step - loss: 11.0842 - val_loss: 11.4039\n",
            "Epoch 75/400\n",
            "74/74 [==============================] - 0s 4ms/step - loss: 10.7242 - val_loss: 11.3284\n",
            "Epoch 76/400\n",
            "74/74 [==============================] - 0s 4ms/step - loss: 10.3069 - val_loss: 12.2139\n",
            "Epoch 77/400\n",
            "74/74 [==============================] - 0s 4ms/step - loss: 10.4588 - val_loss: 11.1705\n",
            "Epoch 78/400\n",
            "74/74 [==============================] - 0s 4ms/step - loss: 10.5245 - val_loss: 11.0283\n",
            "Epoch 79/400\n",
            "74/74 [==============================] - 0s 4ms/step - loss: 10.2315 - val_loss: 11.5459\n",
            "Epoch 80/400\n",
            "74/74 [==============================] - 0s 4ms/step - loss: 10.3466 - val_loss: 11.1754\n",
            "Epoch 81/400\n",
            "74/74 [==============================] - 0s 4ms/step - loss: 10.0474 - val_loss: 10.7534\n",
            "Epoch 82/400\n",
            "74/74 [==============================] - 0s 4ms/step - loss: 9.9821 - val_loss: 10.5720\n",
            "Epoch 83/400\n",
            "74/74 [==============================] - 0s 5ms/step - loss: 10.3913 - val_loss: 10.5355\n",
            "Epoch 84/400\n",
            "74/74 [==============================] - 0s 5ms/step - loss: 9.9661 - val_loss: 10.5869\n",
            "Epoch 85/400\n",
            "74/74 [==============================] - 0s 4ms/step - loss: 9.7746 - val_loss: 10.3381\n",
            "Epoch 86/400\n",
            "74/74 [==============================] - 0s 4ms/step - loss: 9.8681 - val_loss: 10.2091\n",
            "Epoch 87/400\n",
            "74/74 [==============================] - 0s 4ms/step - loss: 9.4594 - val_loss: 10.4600\n",
            "Epoch 88/400\n",
            "74/74 [==============================] - 0s 5ms/step - loss: 9.5755 - val_loss: 11.4552\n",
            "Epoch 89/400\n",
            "74/74 [==============================] - 0s 4ms/step - loss: 9.6659 - val_loss: 10.0696\n",
            "Epoch 90/400\n",
            "74/74 [==============================] - 0s 4ms/step - loss: 9.2814 - val_loss: 9.9942\n",
            "Epoch 91/400\n",
            "74/74 [==============================] - 0s 5ms/step - loss: 9.6854 - val_loss: 10.5218\n",
            "Epoch 92/400\n",
            "74/74 [==============================] - 0s 4ms/step - loss: 9.3373 - val_loss: 9.9037\n",
            "Epoch 93/400\n",
            "74/74 [==============================] - 0s 4ms/step - loss: 9.0900 - val_loss: 9.8852\n",
            "Epoch 94/400\n",
            "74/74 [==============================] - 0s 5ms/step - loss: 9.0681 - val_loss: 9.6286\n",
            "Epoch 95/400\n",
            "74/74 [==============================] - 0s 4ms/step - loss: 9.1350 - val_loss: 9.5468\n",
            "Epoch 96/400\n",
            "74/74 [==============================] - 0s 5ms/step - loss: 8.7861 - val_loss: 9.3317\n",
            "Epoch 97/400\n",
            "74/74 [==============================] - 0s 4ms/step - loss: 8.8467 - val_loss: 9.3128\n",
            "Epoch 98/400\n",
            "74/74 [==============================] - 0s 4ms/step - loss: 8.6611 - val_loss: 9.1823\n",
            "Epoch 99/400\n",
            "74/74 [==============================] - 0s 6ms/step - loss: 8.5359 - val_loss: 9.3405\n",
            "Epoch 100/400\n",
            "74/74 [==============================] - 0s 6ms/step - loss: 8.8072 - val_loss: 9.0235\n",
            "Epoch 101/400\n",
            "74/74 [==============================] - 0s 6ms/step - loss: 8.6231 - val_loss: 9.2538\n",
            "Epoch 102/400\n",
            "74/74 [==============================] - 0s 6ms/step - loss: 8.3508 - val_loss: 10.9401\n",
            "Epoch 103/400\n",
            "74/74 [==============================] - 0s 5ms/step - loss: 8.5290 - val_loss: 9.0097\n",
            "Epoch 104/400\n",
            "74/74 [==============================] - 0s 6ms/step - loss: 8.4204 - val_loss: 8.6110\n",
            "Epoch 105/400\n",
            "74/74 [==============================] - 1s 11ms/step - loss: 8.1170 - val_loss: 8.7253\n",
            "Epoch 106/400\n",
            "74/74 [==============================] - 0s 6ms/step - loss: 8.2619 - val_loss: 8.5616\n",
            "Epoch 107/400\n",
            "74/74 [==============================] - 1s 7ms/step - loss: 7.9556 - val_loss: 8.8288\n",
            "Epoch 108/400\n",
            "74/74 [==============================] - 0s 6ms/step - loss: 7.8449 - val_loss: 8.4232\n",
            "Epoch 109/400\n",
            "74/74 [==============================] - 0s 4ms/step - loss: 8.0516 - val_loss: 8.2505\n",
            "Epoch 110/400\n",
            "74/74 [==============================] - 1s 7ms/step - loss: 7.6685 - val_loss: 8.0941\n",
            "Epoch 111/400\n",
            "74/74 [==============================] - 0s 4ms/step - loss: 7.6532 - val_loss: 8.1012\n",
            "Epoch 112/400\n",
            "74/74 [==============================] - 0s 4ms/step - loss: 7.5201 - val_loss: 8.1028\n",
            "Epoch 113/400\n",
            "74/74 [==============================] - 0s 4ms/step - loss: 7.5211 - val_loss: 7.8661\n",
            "Epoch 114/400\n",
            "74/74 [==============================] - 0s 4ms/step - loss: 7.2991 - val_loss: 7.8561\n",
            "Epoch 115/400\n",
            "74/74 [==============================] - 0s 5ms/step - loss: 7.3360 - val_loss: 7.7173\n",
            "Epoch 116/400\n",
            "74/74 [==============================] - 0s 4ms/step - loss: 7.1648 - val_loss: 7.7493\n",
            "Epoch 117/400\n",
            "74/74 [==============================] - 0s 5ms/step - loss: 7.2521 - val_loss: 7.5981\n",
            "Epoch 118/400\n",
            "74/74 [==============================] - 0s 4ms/step - loss: 7.0473 - val_loss: 7.4532\n",
            "Epoch 119/400\n",
            "74/74 [==============================] - 0s 4ms/step - loss: 7.1484 - val_loss: 7.4093\n",
            "Epoch 120/400\n",
            "74/74 [==============================] - 0s 4ms/step - loss: 7.0338 - val_loss: 7.3206\n",
            "Epoch 121/400\n",
            "74/74 [==============================] - 0s 4ms/step - loss: 6.9282 - val_loss: 7.1934\n",
            "Epoch 122/400\n",
            "74/74 [==============================] - 0s 4ms/step - loss: 6.7524 - val_loss: 7.3175\n",
            "Epoch 123/400\n",
            "74/74 [==============================] - 0s 4ms/step - loss: 6.6387 - val_loss: 7.7299\n",
            "Epoch 124/400\n",
            "74/74 [==============================] - 0s 5ms/step - loss: 6.6143 - val_loss: 6.9042\n",
            "Epoch 125/400\n",
            "74/74 [==============================] - 0s 4ms/step - loss: 7.0792 - val_loss: 6.8948\n",
            "Epoch 126/400\n",
            "74/74 [==============================] - 0s 4ms/step - loss: 6.3983 - val_loss: 6.7158\n",
            "Epoch 127/400\n",
            "74/74 [==============================] - 0s 4ms/step - loss: 6.4107 - val_loss: 6.6999\n",
            "Epoch 128/400\n",
            "74/74 [==============================] - 0s 4ms/step - loss: 6.2326 - val_loss: 6.6329\n",
            "Epoch 129/400\n",
            "74/74 [==============================] - 0s 4ms/step - loss: 6.2330 - val_loss: 6.7010\n",
            "Epoch 130/400\n",
            "74/74 [==============================] - 0s 4ms/step - loss: 6.3242 - val_loss: 6.4697\n",
            "Epoch 131/400\n",
            "74/74 [==============================] - 0s 4ms/step - loss: 6.0765 - val_loss: 6.5465\n",
            "Epoch 132/400\n",
            "74/74 [==============================] - 0s 4ms/step - loss: 6.3504 - val_loss: 6.2540\n",
            "Epoch 133/400\n",
            "74/74 [==============================] - 0s 4ms/step - loss: 5.9249 - val_loss: 6.0860\n",
            "Epoch 134/400\n",
            "74/74 [==============================] - 0s 4ms/step - loss: 5.8001 - val_loss: 6.0475\n",
            "Epoch 135/400\n",
            "74/74 [==============================] - 0s 5ms/step - loss: 5.7467 - val_loss: 6.0768\n",
            "Epoch 136/400\n",
            "74/74 [==============================] - 0s 6ms/step - loss: 5.6644 - val_loss: 6.2409\n",
            "Epoch 137/400\n",
            "74/74 [==============================] - 0s 6ms/step - loss: 5.5231 - val_loss: 6.0571\n",
            "Epoch 138/400\n",
            "74/74 [==============================] - 0s 6ms/step - loss: 5.6522 - val_loss: 5.7028\n",
            "Epoch 139/400\n",
            "74/74 [==============================] - 0s 6ms/step - loss: 5.4930 - val_loss: 5.8857\n",
            "Epoch 140/400\n",
            "74/74 [==============================] - 0s 6ms/step - loss: 5.3441 - val_loss: 5.5714\n",
            "Epoch 141/400\n",
            "74/74 [==============================] - 0s 6ms/step - loss: 5.2351 - val_loss: 5.4911\n",
            "Epoch 142/400\n",
            "74/74 [==============================] - 0s 5ms/step - loss: 5.1213 - val_loss: 5.9135\n",
            "Epoch 143/400\n",
            "74/74 [==============================] - 0s 4ms/step - loss: 5.2266 - val_loss: 5.5863\n",
            "Epoch 144/400\n",
            "74/74 [==============================] - 0s 4ms/step - loss: 4.9766 - val_loss: 5.2601\n",
            "Epoch 145/400\n",
            "74/74 [==============================] - 0s 4ms/step - loss: 5.0508 - val_loss: 5.1413\n",
            "Epoch 146/400\n",
            "74/74 [==============================] - 0s 4ms/step - loss: 4.9656 - val_loss: 5.0335\n",
            "Epoch 147/400\n",
            "74/74 [==============================] - 0s 4ms/step - loss: 4.8462 - val_loss: 4.9636\n",
            "Epoch 148/400\n",
            "74/74 [==============================] - 0s 4ms/step - loss: 4.7043 - val_loss: 4.8562\n",
            "Epoch 149/400\n",
            "74/74 [==============================] - 0s 4ms/step - loss: 4.6737 - val_loss: 4.8312\n",
            "Epoch 150/400\n",
            "74/74 [==============================] - 0s 5ms/step - loss: 4.9377 - val_loss: 4.7151\n",
            "Epoch 151/400\n",
            "74/74 [==============================] - 0s 4ms/step - loss: 4.4498 - val_loss: 4.6557\n",
            "Epoch 152/400\n",
            "74/74 [==============================] - 0s 4ms/step - loss: 4.4954 - val_loss: 4.5970\n",
            "Epoch 153/400\n",
            "74/74 [==============================] - 0s 4ms/step - loss: 4.4026 - val_loss: 4.6127\n",
            "Epoch 154/400\n",
            "74/74 [==============================] - 0s 4ms/step - loss: 4.3016 - val_loss: 4.7083\n",
            "Epoch 155/400\n",
            "74/74 [==============================] - 0s 5ms/step - loss: 4.1353 - val_loss: 4.4849\n",
            "Epoch 156/400\n",
            "74/74 [==============================] - 0s 5ms/step - loss: 4.2036 - val_loss: 4.3129\n",
            "Epoch 157/400\n",
            "74/74 [==============================] - 0s 5ms/step - loss: 4.0702 - val_loss: 4.4897\n",
            "Epoch 158/400\n",
            "74/74 [==============================] - 0s 4ms/step - loss: 3.8872 - val_loss: 4.2808\n",
            "Epoch 159/400\n",
            "74/74 [==============================] - 0s 4ms/step - loss: 4.0442 - val_loss: 3.9842\n",
            "Epoch 160/400\n",
            "74/74 [==============================] - 0s 4ms/step - loss: 3.8285 - val_loss: 3.9303\n",
            "Epoch 161/400\n",
            "74/74 [==============================] - 0s 4ms/step - loss: 3.7091 - val_loss: 4.0337\n",
            "Epoch 162/400\n",
            "74/74 [==============================] - 0s 4ms/step - loss: 3.7476 - val_loss: 3.7963\n",
            "Epoch 163/400\n",
            "74/74 [==============================] - 0s 5ms/step - loss: 3.6055 - val_loss: 4.1246\n",
            "Epoch 164/400\n",
            "74/74 [==============================] - 0s 4ms/step - loss: 3.5764 - val_loss: 3.7927\n",
            "Epoch 165/400\n",
            "74/74 [==============================] - 0s 4ms/step - loss: 3.4424 - val_loss: 3.5374\n",
            "Epoch 166/400\n",
            "74/74 [==============================] - 0s 4ms/step - loss: 3.4332 - val_loss: 3.4179\n",
            "Epoch 167/400\n",
            "74/74 [==============================] - 0s 4ms/step - loss: 3.3231 - val_loss: 3.3951\n",
            "Epoch 168/400\n",
            "74/74 [==============================] - 0s 4ms/step - loss: 3.2623 - val_loss: 3.9930\n",
            "Epoch 169/400\n",
            "74/74 [==============================] - 0s 4ms/step - loss: 3.2526 - val_loss: 3.2392\n",
            "Epoch 170/400\n",
            "74/74 [==============================] - 0s 4ms/step - loss: 3.0640 - val_loss: 3.0947\n",
            "Epoch 171/400\n",
            "74/74 [==============================] - 0s 4ms/step - loss: 2.9762 - val_loss: 3.2891\n",
            "Epoch 172/400\n",
            "74/74 [==============================] - 0s 4ms/step - loss: 2.9403 - val_loss: 2.9749\n",
            "Epoch 173/400\n",
            "74/74 [==============================] - 0s 6ms/step - loss: 2.7957 - val_loss: 2.9408\n",
            "Epoch 174/400\n",
            "74/74 [==============================] - 1s 11ms/step - loss: 2.7555 - val_loss: 2.8600\n",
            "Epoch 175/400\n",
            "74/74 [==============================] - 1s 9ms/step - loss: 2.7821 - val_loss: 2.8315\n",
            "Epoch 176/400\n",
            "74/74 [==============================] - 1s 10ms/step - loss: 2.6351 - val_loss: 3.8610\n",
            "Epoch 177/400\n",
            "74/74 [==============================] - 1s 9ms/step - loss: 2.8871 - val_loss: 2.6881\n",
            "Epoch 178/400\n",
            "74/74 [==============================] - 0s 6ms/step - loss: 2.5194 - val_loss: 2.5600\n",
            "Epoch 179/400\n",
            "74/74 [==============================] - 0s 4ms/step - loss: 2.4533 - val_loss: 2.6586\n",
            "Epoch 180/400\n",
            "74/74 [==============================] - 0s 5ms/step - loss: 2.4366 - val_loss: 2.4153\n",
            "Epoch 181/400\n",
            "74/74 [==============================] - 0s 4ms/step - loss: 2.3961 - val_loss: 2.3359\n",
            "Epoch 182/400\n",
            "74/74 [==============================] - 0s 4ms/step - loss: 2.3226 - val_loss: 2.3475\n",
            "Epoch 183/400\n",
            "74/74 [==============================] - 0s 4ms/step - loss: 2.1964 - val_loss: 2.2295\n",
            "Epoch 184/400\n",
            "74/74 [==============================] - 0s 4ms/step - loss: 2.0565 - val_loss: 3.1561\n",
            "Epoch 185/400\n",
            "74/74 [==============================] - 0s 5ms/step - loss: 2.0777 - val_loss: 2.1423\n",
            "Epoch 186/400\n",
            "74/74 [==============================] - 0s 4ms/step - loss: 1.9667 - val_loss: 2.0986\n",
            "Epoch 187/400\n",
            "74/74 [==============================] - 0s 4ms/step - loss: 1.9107 - val_loss: 2.1215\n",
            "Epoch 188/400\n",
            "74/74 [==============================] - 0s 4ms/step - loss: 1.8704 - val_loss: 1.9315\n",
            "Epoch 189/400\n",
            "74/74 [==============================] - 0s 4ms/step - loss: 1.7802 - val_loss: 1.9093\n",
            "Epoch 190/400\n",
            "74/74 [==============================] - 0s 4ms/step - loss: 1.7582 - val_loss: 1.6986\n",
            "Epoch 191/400\n",
            "74/74 [==============================] - 0s 4ms/step - loss: 1.6540 - val_loss: 1.7061\n",
            "Epoch 192/400\n",
            "74/74 [==============================] - 0s 4ms/step - loss: 1.6021 - val_loss: 1.9080\n",
            "Epoch 193/400\n",
            "74/74 [==============================] - 0s 4ms/step - loss: 1.5642 - val_loss: 1.8999\n",
            "Epoch 194/400\n",
            "74/74 [==============================] - 0s 4ms/step - loss: 1.4451 - val_loss: 1.4845\n",
            "Epoch 195/400\n",
            "74/74 [==============================] - 0s 5ms/step - loss: 1.3801 - val_loss: 1.4217\n",
            "Epoch 196/400\n",
            "74/74 [==============================] - 0s 5ms/step - loss: 1.3589 - val_loss: 1.3116\n",
            "Epoch 197/400\n",
            "74/74 [==============================] - 0s 4ms/step - loss: 1.3150 - val_loss: 1.2872\n",
            "Epoch 198/400\n",
            "74/74 [==============================] - 0s 4ms/step - loss: 1.1960 - val_loss: 1.4450\n",
            "Epoch 199/400\n",
            "74/74 [==============================] - 0s 4ms/step - loss: 1.2211 - val_loss: 1.5026\n",
            "Epoch 200/400\n",
            "74/74 [==============================] - 0s 4ms/step - loss: 1.1897 - val_loss: 1.1407\n",
            "Epoch 201/400\n",
            "74/74 [==============================] - 0s 4ms/step - loss: 1.0559 - val_loss: 1.0875\n",
            "Epoch 202/400\n",
            "74/74 [==============================] - 0s 4ms/step - loss: 1.0218 - val_loss: 1.0229\n",
            "Epoch 203/400\n",
            "74/74 [==============================] - 0s 4ms/step - loss: 0.9685 - val_loss: 0.9477\n",
            "Epoch 204/400\n",
            "74/74 [==============================] - 0s 4ms/step - loss: 0.8969 - val_loss: 0.9307\n",
            "Epoch 205/400\n",
            "74/74 [==============================] - 0s 4ms/step - loss: 0.8316 - val_loss: 0.8996\n",
            "Epoch 206/400\n",
            "74/74 [==============================] - 0s 4ms/step - loss: 0.8087 - val_loss: 0.8081\n",
            "Epoch 207/400\n",
            "74/74 [==============================] - 0s 4ms/step - loss: 0.7917 - val_loss: 0.7931\n",
            "Epoch 208/400\n",
            "74/74 [==============================] - 0s 4ms/step - loss: 0.7425 - val_loss: 0.7236\n",
            "Epoch 209/400\n",
            "74/74 [==============================] - 0s 5ms/step - loss: 0.7318 - val_loss: 0.7425\n",
            "Epoch 210/400\n",
            "74/74 [==============================] - 0s 6ms/step - loss: 0.6500 - val_loss: 0.6026\n",
            "Epoch 211/400\n",
            "74/74 [==============================] - 0s 6ms/step - loss: 0.5895 - val_loss: 0.5621\n",
            "Epoch 212/400\n",
            "74/74 [==============================] - 0s 6ms/step - loss: 0.5511 - val_loss: 0.5150\n",
            "Epoch 213/400\n",
            "74/74 [==============================] - 0s 7ms/step - loss: 0.4959 - val_loss: 0.5002\n",
            "Epoch 214/400\n",
            "74/74 [==============================] - 0s 6ms/step - loss: 0.4611 - val_loss: 0.4930\n",
            "Epoch 215/400\n",
            "74/74 [==============================] - 0s 7ms/step - loss: 0.4092 - val_loss: 0.3757\n",
            "Epoch 216/400\n",
            "74/74 [==============================] - 0s 5ms/step - loss: 0.3740 - val_loss: 0.3549\n",
            "Epoch 217/400\n",
            "74/74 [==============================] - 0s 4ms/step - loss: 0.3548 - val_loss: 0.4414\n",
            "Epoch 218/400\n",
            "74/74 [==============================] - 0s 4ms/step - loss: 0.3346 - val_loss: 0.3042\n",
            "Epoch 219/400\n",
            "74/74 [==============================] - 0s 5ms/step - loss: 0.3191 - val_loss: 0.3372\n",
            "Epoch 220/400\n",
            "74/74 [==============================] - 0s 5ms/step - loss: 0.2868 - val_loss: 0.2462\n",
            "Epoch 221/400\n",
            "74/74 [==============================] - 0s 4ms/step - loss: 0.2649 - val_loss: 0.2205\n",
            "Epoch 222/400\n",
            "74/74 [==============================] - 0s 4ms/step - loss: 0.2304 - val_loss: 0.2043\n",
            "Epoch 223/400\n",
            "74/74 [==============================] - 0s 4ms/step - loss: 0.2303 - val_loss: 0.2607\n",
            "Epoch 224/400\n",
            "74/74 [==============================] - 0s 4ms/step - loss: 0.2101 - val_loss: 0.1647\n",
            "Epoch 225/400\n",
            "74/74 [==============================] - 0s 4ms/step - loss: 0.1958 - val_loss: 0.1525\n",
            "Epoch 226/400\n",
            "74/74 [==============================] - 0s 5ms/step - loss: 0.1794 - val_loss: 0.1724\n",
            "Epoch 227/400\n",
            "74/74 [==============================] - 0s 4ms/step - loss: 0.1561 - val_loss: 0.1596\n",
            "Epoch 228/400\n",
            "74/74 [==============================] - 0s 5ms/step - loss: 0.1497 - val_loss: 0.1116\n",
            "Epoch 229/400\n",
            "74/74 [==============================] - 0s 4ms/step - loss: 0.1354 - val_loss: 0.0996\n",
            "Epoch 230/400\n",
            "74/74 [==============================] - 0s 4ms/step - loss: 0.1119 - val_loss: 0.1240\n",
            "Epoch 231/400\n",
            "74/74 [==============================] - 0s 4ms/step - loss: 0.1132 - val_loss: 0.0970\n",
            "Epoch 232/400\n",
            "74/74 [==============================] - 0s 5ms/step - loss: 0.0979 - val_loss: 0.0778\n",
            "Epoch 233/400\n",
            "74/74 [==============================] - 0s 4ms/step - loss: 0.0806 - val_loss: 0.0714\n",
            "Epoch 234/400\n",
            "74/74 [==============================] - 0s 4ms/step - loss: 0.0689 - val_loss: 0.0555\n",
            "Epoch 235/400\n",
            "74/74 [==============================] - 0s 4ms/step - loss: 0.0649 - val_loss: 0.0761\n",
            "Epoch 236/400\n",
            "74/74 [==============================] - 0s 5ms/step - loss: 0.0551 - val_loss: 0.0546\n",
            "Epoch 237/400\n",
            "74/74 [==============================] - 0s 5ms/step - loss: 0.0542 - val_loss: 0.0433\n",
            "Epoch 238/400\n",
            "74/74 [==============================] - 0s 4ms/step - loss: 0.0484 - val_loss: 0.0374\n",
            "Epoch 239/400\n",
            "74/74 [==============================] - 0s 5ms/step - loss: 0.0379 - val_loss: 0.0318\n",
            "Epoch 240/400\n",
            "74/74 [==============================] - 0s 4ms/step - loss: 0.0362 - val_loss: 0.0316\n",
            "Epoch 241/400\n",
            "74/74 [==============================] - 0s 4ms/step - loss: 0.0307 - val_loss: 0.0357\n",
            "Epoch 242/400\n",
            "74/74 [==============================] - 0s 4ms/step - loss: 0.0310 - val_loss: 0.0269\n",
            "Epoch 243/400\n",
            "74/74 [==============================] - 0s 5ms/step - loss: 0.0245 - val_loss: 0.0219\n",
            "Epoch 244/400\n",
            "74/74 [==============================] - 0s 4ms/step - loss: 0.0209 - val_loss: 0.0167\n",
            "Epoch 245/400\n",
            "74/74 [==============================] - 0s 4ms/step - loss: 0.0191 - val_loss: 0.0166\n",
            "Epoch 246/400\n",
            "74/74 [==============================] - 0s 4ms/step - loss: 0.0192 - val_loss: 0.0141\n",
            "Epoch 247/400\n",
            "74/74 [==============================] - 0s 7ms/step - loss: 0.0137 - val_loss: 0.0113\n",
            "Epoch 248/400\n",
            "74/74 [==============================] - 0s 6ms/step - loss: 0.0122 - val_loss: 0.0102\n",
            "Epoch 249/400\n",
            "74/74 [==============================] - 0s 6ms/step - loss: 0.0109 - val_loss: 0.0122\n",
            "Epoch 250/400\n",
            "74/74 [==============================] - 0s 6ms/step - loss: 0.0087 - val_loss: 0.0076\n",
            "Epoch 251/400\n",
            "74/74 [==============================] - 0s 6ms/step - loss: 0.0088 - val_loss: 0.0061\n",
            "Epoch 252/400\n",
            "74/74 [==============================] - 0s 6ms/step - loss: 0.0074 - val_loss: 0.0078\n",
            "Epoch 253/400\n",
            "74/74 [==============================] - 0s 6ms/step - loss: 0.0057 - val_loss: 0.0045\n",
            "Epoch 254/400\n",
            "74/74 [==============================] - 0s 4ms/step - loss: 0.0052 - val_loss: 0.0043\n",
            "Epoch 255/400\n",
            "74/74 [==============================] - 0s 4ms/step - loss: 0.0037 - val_loss: 0.0036\n",
            "Epoch 256/400\n",
            "74/74 [==============================] - 0s 4ms/step - loss: 0.0037 - val_loss: 0.0036\n",
            "Epoch 257/400\n",
            "74/74 [==============================] - 0s 4ms/step - loss: 0.0030 - val_loss: 0.0044\n",
            "Epoch 258/400\n",
            "74/74 [==============================] - 0s 4ms/step - loss: 0.0033 - val_loss: 0.0035\n",
            "Epoch 259/400\n",
            "74/74 [==============================] - 0s 5ms/step - loss: 0.0025 - val_loss: 0.0019\n",
            "Epoch 260/400\n",
            "74/74 [==============================] - 0s 5ms/step - loss: 0.0016 - val_loss: 0.0016\n",
            "Epoch 261/400\n",
            "74/74 [==============================] - 0s 4ms/step - loss: 0.0015 - val_loss: 0.0011\n",
            "Epoch 262/400\n",
            "74/74 [==============================] - 0s 4ms/step - loss: 0.0012 - val_loss: 9.4650e-04\n",
            "Epoch 263/400\n",
            "74/74 [==============================] - 0s 4ms/step - loss: 8.3569e-04 - val_loss: 7.1629e-04\n",
            "Epoch 264/400\n",
            "74/74 [==============================] - 0s 4ms/step - loss: 0.0010 - val_loss: 0.0011\n",
            "Epoch 265/400\n",
            "74/74 [==============================] - 0s 4ms/step - loss: 7.3199e-04 - val_loss: 6.0584e-04\n",
            "Epoch 266/400\n",
            "74/74 [==============================] - 0s 4ms/step - loss: 5.0976e-04 - val_loss: 3.8118e-04\n",
            "Epoch 267/400\n",
            "74/74 [==============================] - 0s 4ms/step - loss: 3.6349e-04 - val_loss: 2.8379e-04\n",
            "Epoch 268/400\n",
            "74/74 [==============================] - 0s 4ms/step - loss: 3.4479e-04 - val_loss: 2.9467e-04\n",
            "Epoch 269/400\n",
            "74/74 [==============================] - 0s 5ms/step - loss: 2.3965e-04 - val_loss: 1.9395e-04\n",
            "Epoch 270/400\n",
            "74/74 [==============================] - 0s 4ms/step - loss: 1.8197e-04 - val_loss: 2.0853e-04\n",
            "Epoch 271/400\n",
            "74/74 [==============================] - 0s 6ms/step - loss: 1.5736e-04 - val_loss: 1.2784e-04\n",
            "Epoch 272/400\n",
            "74/74 [==============================] - 0s 4ms/step - loss: 1.6387e-04 - val_loss: 3.1161e-04\n",
            "Epoch 273/400\n",
            "74/74 [==============================] - 0s 4ms/step - loss: 1.4453e-04 - val_loss: 6.3471e-05\n",
            "Epoch 274/400\n",
            "74/74 [==============================] - 0s 4ms/step - loss: 9.1144e-05 - val_loss: 5.3573e-05\n",
            "Epoch 275/400\n",
            "74/74 [==============================] - 0s 5ms/step - loss: 8.3904e-05 - val_loss: 5.4221e-05\n",
            "Epoch 276/400\n",
            "74/74 [==============================] - 0s 4ms/step - loss: 8.6511e-05 - val_loss: 3.1799e-05\n",
            "Epoch 277/400\n",
            "74/74 [==============================] - 0s 4ms/step - loss: 5.2253e-05 - val_loss: 4.2134e-05\n",
            "Epoch 278/400\n",
            "74/74 [==============================] - 0s 4ms/step - loss: 3.6513e-05 - val_loss: 3.2682e-05\n",
            "Epoch 279/400\n",
            "74/74 [==============================] - 0s 4ms/step - loss: 3.3152e-05 - val_loss: 2.1967e-05\n",
            "Epoch 280/400\n",
            "74/74 [==============================] - 0s 4ms/step - loss: 2.5450e-05 - val_loss: 4.4874e-05\n",
            "Epoch 281/400\n",
            "74/74 [==============================] - 0s 4ms/step - loss: 3.8819e-05 - val_loss: 3.1268e-05\n",
            "Epoch 282/400\n",
            "74/74 [==============================] - 0s 4ms/step - loss: 2.6340e-05 - val_loss: 5.1840e-05\n",
            "Epoch 283/400\n",
            "74/74 [==============================] - 0s 4ms/step - loss: 2.5214e-05 - val_loss: 1.1348e-05\n",
            "Epoch 284/400\n",
            "74/74 [==============================] - 0s 6ms/step - loss: 2.6073e-05 - val_loss: 8.6417e-06\n",
            "Epoch 285/400\n",
            "74/74 [==============================] - 0s 6ms/step - loss: 3.0173e-05 - val_loss: 1.3063e-05\n",
            "Epoch 286/400\n",
            "74/74 [==============================] - 0s 6ms/step - loss: 3.1900e-05 - val_loss: 8.5926e-06\n",
            "Epoch 287/400\n",
            "74/74 [==============================] - 0s 6ms/step - loss: 3.5161e-05 - val_loss: 2.3092e-05\n",
            "Epoch 288/400\n",
            "74/74 [==============================] - 0s 6ms/step - loss: 2.1578e-05 - val_loss: 5.7953e-05\n",
            "Epoch 289/400\n",
            "74/74 [==============================] - 0s 6ms/step - loss: 2.2574e-05 - val_loss: 1.6313e-05\n",
            "Epoch 290/400\n",
            "74/74 [==============================] - 0s 6ms/step - loss: 3.3472e-05 - val_loss: 2.0748e-05\n",
            "Epoch 291/400\n",
            "74/74 [==============================] - 0s 6ms/step - loss: 2.3839e-05 - val_loss: 1.5299e-05\n",
            "Epoch 292/400\n",
            "74/74 [==============================] - 0s 5ms/step - loss: 2.9375e-05 - val_loss: 9.0468e-06\n",
            "Epoch 293/400\n",
            "74/74 [==============================] - 0s 4ms/step - loss: 2.7503e-05 - val_loss: 1.0838e-05\n",
            "Epoch 294/400\n",
            "74/74 [==============================] - 0s 4ms/step - loss: 3.5541e-05 - val_loss: 3.8591e-05\n",
            "Epoch 295/400\n",
            "74/74 [==============================] - 0s 5ms/step - loss: 1.2354e-04 - val_loss: 7.2964e-04\n",
            "Epoch 296/400\n",
            "74/74 [==============================] - 0s 4ms/step - loss: 1.7044e-04 - val_loss: 2.7728e-05\n",
            "Epoch 297/400\n",
            "74/74 [==============================] - 0s 4ms/step - loss: 1.9094e-05 - val_loss: 2.2890e-05\n",
            "Epoch 298/400\n",
            "74/74 [==============================] - 0s 4ms/step - loss: 2.0074e-05 - val_loss: 9.5406e-06\n",
            "Epoch 299/400\n",
            "74/74 [==============================] - 0s 4ms/step - loss: 6.0674e-05 - val_loss: 7.1734e-05\n",
            "Epoch 300/400\n",
            "74/74 [==============================] - 0s 4ms/step - loss: 6.4078e-05 - val_loss: 4.0941e-05\n",
            "Epoch 301/400\n",
            "74/74 [==============================] - 0s 4ms/step - loss: 2.0604e-04 - val_loss: 6.6225e-05\n",
            "Epoch 302/400\n",
            "74/74 [==============================] - 0s 4ms/step - loss: 5.4456e-05 - val_loss: 6.7785e-05\n",
            "Epoch 303/400\n",
            "74/74 [==============================] - 0s 4ms/step - loss: 6.7315e-05 - val_loss: 3.1425e-04\n",
            "Epoch 304/400\n",
            "74/74 [==============================] - 0s 4ms/step - loss: 3.1629e-04 - val_loss: 0.0056\n",
            "Epoch 305/400\n",
            "74/74 [==============================] - 0s 4ms/step - loss: 0.0071 - val_loss: 0.0087\n",
            "Epoch 306/400\n",
            "74/74 [==============================] - 0s 5ms/step - loss: 5.3975e-04 - val_loss: 3.2417e-05\n",
            "Epoch 307/400\n",
            "74/74 [==============================] - 0s 5ms/step - loss: 1.0891e-04 - val_loss: 4.1915e-05\n",
            "Epoch 308/400\n",
            "74/74 [==============================] - 0s 4ms/step - loss: 1.7631e-04 - val_loss: 3.5196e-04\n",
            "Epoch 309/400\n",
            "74/74 [==============================] - 0s 5ms/step - loss: 1.7817e-04 - val_loss: 1.1904e-04\n",
            "Epoch 310/400\n",
            "74/74 [==============================] - 0s 5ms/step - loss: 2.1648e-04 - val_loss: 0.0015\n",
            "Epoch 311/400\n",
            "74/74 [==============================] - 0s 4ms/step - loss: 0.0028 - val_loss: 0.0023\n",
            "Epoch 312/400\n",
            "74/74 [==============================] - 0s 4ms/step - loss: 9.4719e-04 - val_loss: 0.0011\n",
            "Epoch 313/400\n",
            "74/74 [==============================] - 0s 4ms/step - loss: 3.7934e-04 - val_loss: 8.4193e-05\n",
            "Epoch 314/400\n",
            "74/74 [==============================] - 0s 5ms/step - loss: 7.6956e-05 - val_loss: 3.9519e-05\n",
            "Epoch 315/400\n",
            "74/74 [==============================] - 0s 4ms/step - loss: 1.2850e-04 - val_loss: 4.6861e-04\n",
            "Epoch 316/400\n",
            "74/74 [==============================] - 0s 4ms/step - loss: 3.0058e-04 - val_loss: 1.6794e-04\n",
            "Epoch 317/400\n",
            "74/74 [==============================] - 0s 5ms/step - loss: 1.6366e-04 - val_loss: 7.1866e-05\n",
            "Epoch 318/400\n",
            "74/74 [==============================] - 0s 5ms/step - loss: 3.6372e-04 - val_loss: 2.5357e-04\n",
            "Epoch 319/400\n",
            "74/74 [==============================] - 0s 4ms/step - loss: 5.2879e-04 - val_loss: 1.2700e-04\n",
            "Epoch 320/400\n",
            "74/74 [==============================] - 0s 4ms/step - loss: 7.2542e-04 - val_loss: 4.4372e-04\n",
            "Epoch 321/400\n",
            "74/74 [==============================] - 0s 4ms/step - loss: 0.0020 - val_loss: 5.4447e-04\n",
            "Epoch 322/400\n",
            "74/74 [==============================] - 0s 6ms/step - loss: 1.9457e-04 - val_loss: 1.1621e-04\n",
            "Epoch 323/400\n",
            "74/74 [==============================] - 0s 6ms/step - loss: 1.1530e-04 - val_loss: 5.4075e-05\n",
            "Epoch 324/400\n",
            "74/74 [==============================] - 0s 6ms/step - loss: 7.9215e-05 - val_loss: 1.8868e-05\n",
            "Epoch 325/400\n",
            "74/74 [==============================] - 0s 6ms/step - loss: 2.3664e-04 - val_loss: 3.2053e-04\n",
            "Epoch 326/400\n",
            "74/74 [==============================] - 0s 6ms/step - loss: 4.8114e-04 - val_loss: 6.9293e-04\n",
            "Epoch 327/400\n",
            "74/74 [==============================] - 0s 6ms/step - loss: 0.0101 - val_loss: 0.0231\n",
            "Epoch 328/400\n",
            "74/74 [==============================] - 0s 6ms/step - loss: 0.0024 - val_loss: 6.5689e-05\n",
            "Epoch 329/400\n",
            "74/74 [==============================] - 0s 6ms/step - loss: 1.0993e-04 - val_loss: 1.8546e-04\n",
            "Epoch 330/400\n",
            "74/74 [==============================] - 0s 4ms/step - loss: 1.9846e-04 - val_loss: 8.9910e-04\n",
            "Epoch 331/400\n",
            "74/74 [==============================] - 0s 4ms/step - loss: 2.2059e-04 - val_loss: 7.1630e-05\n",
            "Epoch 332/400\n",
            "74/74 [==============================] - 0s 4ms/step - loss: 1.5196e-04 - val_loss: 6.3243e-04\n",
            "Epoch 333/400\n",
            "74/74 [==============================] - 0s 4ms/step - loss: 1.2408e-04 - val_loss: 1.3454e-04\n",
            "Epoch 334/400\n",
            "74/74 [==============================] - 0s 5ms/step - loss: 2.3565e-04 - val_loss: 6.2523e-04\n",
            "Epoch 335/400\n",
            "74/74 [==============================] - 0s 4ms/step - loss: 0.0011 - val_loss: 2.3221e-04\n",
            "Epoch 336/400\n",
            "74/74 [==============================] - 0s 4ms/step - loss: 7.9731e-05 - val_loss: 3.4071e-04\n",
            "Epoch 337/400\n",
            "74/74 [==============================] - 0s 4ms/step - loss: 1.3344e-04 - val_loss: 1.5074e-04\n",
            "Epoch 338/400\n",
            "74/74 [==============================] - 0s 4ms/step - loss: 1.3790e-04 - val_loss: 1.2519e-04\n",
            "Epoch 339/400\n",
            "74/74 [==============================] - 0s 4ms/step - loss: 8.2179e-05 - val_loss: 3.5680e-05\n",
            "Epoch 340/400\n",
            "74/74 [==============================] - 0s 4ms/step - loss: 0.0010 - val_loss: 0.0012\n",
            "Epoch 341/400\n",
            "74/74 [==============================] - 0s 4ms/step - loss: 0.0010 - val_loss: 3.7760e-04\n",
            "Epoch 342/400\n",
            "74/74 [==============================] - 0s 4ms/step - loss: 6.4893e-04 - val_loss: 0.0015\n",
            "Epoch 343/400\n",
            "74/74 [==============================] - 0s 4ms/step - loss: 0.0010 - val_loss: 0.0028\n",
            "Epoch 344/400\n",
            "74/74 [==============================] - 0s 4ms/step - loss: 0.0011 - val_loss: 0.0029\n",
            "Epoch 345/400\n",
            "74/74 [==============================] - 0s 4ms/step - loss: 9.5896e-04 - val_loss: 0.0020\n",
            "Epoch 346/400\n",
            "74/74 [==============================] - 0s 4ms/step - loss: 0.0014 - val_loss: 0.0053\n",
            "Epoch 347/400\n",
            "74/74 [==============================] - 0s 5ms/step - loss: 0.0032 - val_loss: 0.0011\n",
            "Epoch 348/400\n",
            "74/74 [==============================] - 0s 4ms/step - loss: 0.0017 - val_loss: 0.0020\n",
            "Epoch 349/400\n",
            "74/74 [==============================] - 0s 5ms/step - loss: 5.5626e-04 - val_loss: 4.4157e-04\n",
            "Epoch 350/400\n",
            "74/74 [==============================] - 0s 4ms/step - loss: 1.6284e-04 - val_loss: 1.5407e-05\n",
            "Epoch 351/400\n",
            "74/74 [==============================] - 0s 4ms/step - loss: 2.2428e-04 - val_loss: 5.5102e-04\n",
            "Epoch 352/400\n",
            "74/74 [==============================] - 0s 4ms/step - loss: 0.0015 - val_loss: 2.2336e-04\n",
            "Epoch 353/400\n",
            "74/74 [==============================] - 0s 4ms/step - loss: 6.6039e-04 - val_loss: 3.0194e-04\n",
            "Epoch 354/400\n",
            "74/74 [==============================] - 0s 4ms/step - loss: 4.3230e-04 - val_loss: 7.2329e-05\n",
            "Epoch 355/400\n",
            "74/74 [==============================] - 0s 4ms/step - loss: 1.4158e-04 - val_loss: 1.7989e-05\n",
            "Epoch 356/400\n",
            "74/74 [==============================] - 0s 4ms/step - loss: 1.3158e-04 - val_loss: 2.0482e-04\n",
            "Epoch 357/400\n",
            "74/74 [==============================] - 0s 4ms/step - loss: 5.1539e-05 - val_loss: 6.1633e-05\n",
            "Epoch 358/400\n",
            "74/74 [==============================] - 0s 4ms/step - loss: 1.4580e-04 - val_loss: 5.7628e-05\n",
            "Epoch 359/400\n",
            "74/74 [==============================] - 0s 4ms/step - loss: 5.1457e-04 - val_loss: 3.2888e-04\n",
            "Epoch 360/400\n",
            "74/74 [==============================] - 0s 4ms/step - loss: 1.7990e-04 - val_loss: 8.6087e-04\n",
            "Epoch 361/400\n",
            "74/74 [==============================] - 0s 6ms/step - loss: 0.0011 - val_loss: 8.5118e-04\n",
            "Epoch 362/400\n",
            "74/74 [==============================] - 0s 6ms/step - loss: 4.2150e-04 - val_loss: 5.4916e-05\n",
            "Epoch 363/400\n",
            "74/74 [==============================] - 0s 6ms/step - loss: 0.0057 - val_loss: 0.0053\n",
            "Epoch 364/400\n",
            "74/74 [==============================] - 0s 7ms/step - loss: 0.0069 - val_loss: 0.0098\n",
            "Epoch 365/400\n",
            "74/74 [==============================] - 0s 6ms/step - loss: 0.0014 - val_loss: 1.3758e-04\n",
            "Epoch 366/400\n",
            "74/74 [==============================] - 0s 7ms/step - loss: 1.1600e-04 - val_loss: 2.8525e-05\n",
            "Epoch 367/400\n",
            "74/74 [==============================] - 0s 6ms/step - loss: 1.1020e-04 - val_loss: 2.9220e-04\n",
            "Epoch 368/400\n",
            "74/74 [==============================] - 0s 5ms/step - loss: 1.2880e-04 - val_loss: 4.8193e-05\n",
            "Epoch 369/400\n",
            "74/74 [==============================] - 0s 5ms/step - loss: 6.9112e-05 - val_loss: 3.5967e-05\n",
            "Epoch 370/400\n",
            "74/74 [==============================] - 0s 4ms/step - loss: 6.5364e-05 - val_loss: 7.5511e-05\n",
            "Epoch 371/400\n",
            "74/74 [==============================] - 0s 4ms/step - loss: 6.9068e-05 - val_loss: 8.0663e-05\n",
            "Epoch 372/400\n",
            "74/74 [==============================] - 0s 4ms/step - loss: 4.9964e-05 - val_loss: 2.2381e-04\n",
            "Epoch 373/400\n",
            "74/74 [==============================] - 0s 4ms/step - loss: 0.0017 - val_loss: 0.0034\n",
            "Epoch 374/400\n",
            "74/74 [==============================] - 0s 4ms/step - loss: 0.0015 - val_loss: 1.9225e-04\n",
            "Epoch 375/400\n",
            "74/74 [==============================] - 0s 5ms/step - loss: 0.0011 - val_loss: 0.0098\n",
            "Epoch 376/400\n",
            "74/74 [==============================] - 0s 5ms/step - loss: 0.0073 - val_loss: 0.0013\n",
            "Epoch 377/400\n",
            "74/74 [==============================] - 0s 4ms/step - loss: 1.7798e-04 - val_loss: 1.2232e-04\n",
            "Epoch 378/400\n",
            "74/74 [==============================] - 0s 4ms/step - loss: 9.2857e-05 - val_loss: 3.3533e-05\n",
            "Epoch 379/400\n",
            "74/74 [==============================] - 0s 4ms/step - loss: 7.5212e-05 - val_loss: 1.6623e-05\n",
            "Epoch 380/400\n",
            "74/74 [==============================] - 0s 4ms/step - loss: 5.3078e-05 - val_loss: 1.6569e-05\n",
            "Epoch 381/400\n",
            "74/74 [==============================] - 0s 5ms/step - loss: 1.5176e-04 - val_loss: 2.1552e-04\n",
            "Epoch 382/400\n",
            "74/74 [==============================] - 0s 5ms/step - loss: 1.1806e-04 - val_loss: 4.4989e-05\n",
            "Epoch 383/400\n",
            "74/74 [==============================] - 0s 4ms/step - loss: 2.6957e-04 - val_loss: 1.9586e-04\n",
            "Epoch 384/400\n",
            "74/74 [==============================] - 0s 5ms/step - loss: 4.8100e-04 - val_loss: 7.4777e-05\n",
            "Epoch 385/400\n",
            "74/74 [==============================] - 0s 4ms/step - loss: 5.9051e-04 - val_loss: 3.6890e-04\n",
            "Epoch 386/400\n",
            "74/74 [==============================] - 0s 5ms/step - loss: 5.2823e-04 - val_loss: 7.5416e-05\n",
            "Epoch 387/400\n",
            "74/74 [==============================] - 0s 5ms/step - loss: 6.5669e-04 - val_loss: 1.4860e-04\n",
            "Epoch 388/400\n",
            "74/74 [==============================] - 0s 4ms/step - loss: 3.5122e-04 - val_loss: 7.6698e-05\n",
            "Epoch 389/400\n",
            "74/74 [==============================] - 0s 5ms/step - loss: 3.1725e-04 - val_loss: 3.8185e-04\n",
            "Epoch 390/400\n",
            "74/74 [==============================] - 0s 4ms/step - loss: 5.5164e-04 - val_loss: 5.4342e-04\n",
            "Epoch 391/400\n",
            "74/74 [==============================] - 0s 5ms/step - loss: 2.3130e-04 - val_loss: 1.0531e-04\n",
            "Epoch 392/400\n",
            "74/74 [==============================] - 0s 4ms/step - loss: 6.0244e-04 - val_loss: 8.2610e-04\n",
            "Epoch 393/400\n",
            "74/74 [==============================] - 0s 5ms/step - loss: 1.5864e-04 - val_loss: 1.8849e-05\n",
            "Epoch 394/400\n",
            "74/74 [==============================] - 0s 5ms/step - loss: 4.9011e-04 - val_loss: 9.2987e-04\n",
            "Epoch 395/400\n",
            "74/74 [==============================] - 0s 5ms/step - loss: 1.3901e-04 - val_loss: 8.6060e-05\n",
            "Epoch 396/400\n",
            "74/74 [==============================] - 0s 4ms/step - loss: 4.4036e-04 - val_loss: 8.1734e-04\n",
            "Epoch 397/400\n",
            "74/74 [==============================] - 0s 4ms/step - loss: 3.5959e-04 - val_loss: 1.7641e-04\n",
            "Epoch 398/400\n",
            "74/74 [==============================] - 0s 6ms/step - loss: 0.0020 - val_loss: 0.0067\n",
            "Epoch 399/400\n",
            "74/74 [==============================] - 0s 6ms/step - loss: 0.0122 - val_loss: 0.0520\n",
            "Epoch 400/400\n",
            "74/74 [==============================] - 0s 6ms/step - loss: 0.0046 - val_loss: 3.4426e-04\n"
          ]
        },
        {
          "output_type": "execute_result",
          "data": {
            "text/plain": [
              "<keras.src.callbacks.History at 0x7d5fab179270>"
            ]
          },
          "metadata": {},
          "execution_count": 12
        }
      ]
    },
    {
      "cell_type": "markdown",
      "source": [
        "# Loss Function\n",
        "There plot the true loss and validation los. The good thing is it doesn't fluctuate much. If the deviation is more then we should rebuild the Model until the result is good."
      ],
      "metadata": {
        "id": "eKEOMrs_J0Tl"
      }
    },
    {
      "cell_type": "code",
      "source": [
        "losses = pd.DataFrame(model.history.history)"
      ],
      "metadata": {
        "id": "ISTNS4cdYB1M"
      },
      "execution_count": null,
      "outputs": []
    },
    {
      "cell_type": "code",
      "source": [
        "losses.plot()"
      ],
      "metadata": {
        "colab": {
          "base_uri": "https://localhost:8080/",
          "height": 447
        },
        "id": "LSEDVaxrYYTy",
        "outputId": "8057311d-5689-46c9-8701-0f7028a89cc9"
      },
      "execution_count": null,
      "outputs": [
        {
          "output_type": "execute_result",
          "data": {
            "text/plain": [
              "<Axes: >"
            ]
          },
          "metadata": {},
          "execution_count": 14
        },
        {
          "output_type": "display_data",
          "data": {
            "text/plain": [
              "<Figure size 640x480 with 1 Axes>"
            ],
            "image/png": "[encoded data removed]"
          },
          "metadata": {}
        }
      ]
    },
    {
      "cell_type": "markdown",
      "source": [
        "# Prediction\n",
        "Now it's time to predict the new Sulfer Conversion Percentage. Remember we put aside 20% of our dataset? Go ahead to use that 20% data to predict from the ANN Model and check how accurately it can predict."
      ],
      "metadata": {
        "id": "hQj83ENNKi5p"
      }
    },
    {
      "cell_type": "code",
      "source": [
        "predictions = model.predict(X_test)"
      ],
      "metadata": {
        "colab": {
          "base_uri": "https://localhost:8080/"
        },
        "id": "d3_mw4o6YaFO",
        "outputId": "ee330075-358e-4a89-94e8-87aef0cd804e"
      },
      "execution_count": null,
      "outputs": [
        {
          "output_type": "stream",
          "name": "stdout",
          "text": [
            "3/3 [==============================] - 0s 3ms/step\n"
          ]
        }
      ]
    },
    {
      "cell_type": "markdown",
      "source": [
        "# R2 Score\n",
        "the R2 Score is arround 0.99. Note that max score is 1.\n",
        "\n",
        "Documentation:\n",
        "https://scikit-learn.org/stable/modules/generated/sklearn.metrics.r2_score.html"
      ],
      "metadata": {
        "id": "ImePIQtaLOg4"
      }
    },
    {
      "cell_type": "code",
      "source": [
        "from sklearn.metrics import r2_score"
      ],
      "metadata": {
        "id": "sk9Mn817iUXr"
      },
      "execution_count": null,
      "outputs": []
    },
    {
      "cell_type": "code",
      "source": [
        "r2_score(y_test, predictions)"
      ],
      "metadata": {
        "colab": {
          "base_uri": "https://localhost:8080/"
        },
        "id": "1SD14YRJiYE9",
        "outputId": "b3699a90-cf6e-4977-bbdf-fb3b27f748e8"
      },
      "execution_count": null,
      "outputs": [
        {
          "output_type": "execute_result",
          "data": {
            "text/plain": [
              "0.9999980102852946"
            ]
          },
          "metadata": {},
          "execution_count": 25
        }
      ]
    },
    {
      "cell_type": "markdown",
      "source": [
        "# Mean Absolute Error\n",
        "Anothe metric we will use to evaluate the Model Performance is Mean Absolute Error. Here we found the Error is 0.015 x 100 = 1.5 % which is pretty amazing.\n",
        "\n",
        "Documention:\n",
        "https://scikit-learn.org/stable/modules/generated/sklearn.metrics.mean_absolute_error.html"
      ],
      "metadata": {
        "id": "4Ab42uCgLhjn"
      }
    },
    {
      "cell_type": "code",
      "source": [
        "mean_absolute_error(y_test,predictions)"
      ],
      "metadata": {
        "colab": {
          "base_uri": "https://localhost:8080/"
        },
        "id": "pwOxHKRxYo2G",
        "outputId": "31962f80-7cb6-4c14-9345-c89d14890315"
      },
      "execution_count": null,
      "outputs": [
        {
          "output_type": "execute_result",
          "data": {
            "text/plain": [
              "0.015051430367134595"
            ]
          },
          "metadata": {},
          "execution_count": 16
        }
      ]
    },
    {
      "cell_type": "markdown",
      "source": [
        "# Root Mean Squared Error\n",
        "Our 3rd metric is Root Mean Squared Error which is around (0.018 x 100 = 1.8 %), pretty impressive.\n",
        "\n",
        "Documentation:\n",
        "https://scikit-learn.org/stable/modules/generated/sklearn.metrics.mean_squared_error.html"
      ],
      "metadata": {
        "id": "XMfAMetZMmVm"
      }
    },
    {
      "cell_type": "code",
      "source": [
        "np.sqrt(mean_squared_error(y_test,predictions))"
      ],
      "metadata": {
        "colab": {
          "base_uri": "https://localhost:8080/"
        },
        "id": "_-aleNUeYr8w",
        "outputId": "8e2f2812-e0d9-4324-a842-84bfcb2ba605"
      },
      "execution_count": null,
      "outputs": [
        {
          "output_type": "execute_result",
          "data": {
            "text/plain": [
              "0.018553419807967673"
            ]
          },
          "metadata": {},
          "execution_count": 17
        }
      ]
    },
    {
      "cell_type": "code",
      "source": [
        "explained_variance_score(y_test,predictions)"
      ],
      "metadata": {
        "colab": {
          "base_uri": "https://localhost:8080/"
        },
        "id": "XAOTplE_Y1AW",
        "outputId": "dae2a197-1193-48d4-a925-cdfecf891e54"
      },
      "execution_count": null,
      "outputs": [
        {
          "output_type": "execute_result",
          "data": {
            "text/plain": [
              "0.9999992348051051"
            ]
          },
          "metadata": {},
          "execution_count": 18
        }
      ]
    },
    {
      "cell_type": "markdown",
      "source": [
        "# Prediction vs True Results\n",
        "\n",
        "Here red line represents the Predicted Results from our ANN Model and Blue dots are representing the actual results. We see the both results are pretty close. That means our Model Predicts nearly actual results.\n",
        "\n",
        "So we can consider that our Model can Predict Sulfer Conversion with around 98% accuracy."
      ],
      "metadata": {
        "id": "ce1jqAI2NSJe"
      }
    },
    {
      "cell_type": "code",
      "source": [
        "# Our predictions\n",
        "plt.scatter(y_test,predictions)\n",
        "\n",
        "# Perfect predictions\n",
        "plt.plot(y_test,y_test,'r')"
      ],
      "metadata": {
        "colab": {
          "base_uri": "https://localhost:8080/",
          "height": 447
        },
        "id": "NpwpgbImY5Bh",
        "outputId": "431df079-c977-415d-cecb-f196ed217bb5"
      },
      "execution_count": null,
      "outputs": [
        {
          "output_type": "execute_result",
          "data": {
            "text/plain": [
              "[<matplotlib.lines.Line2D at 0x7d5f38f2a140>]"
            ]
          },
          "metadata": {},
          "execution_count": 19
        },
        {
          "output_type": "display_data",
          "data": {
            "text/plain": [
              "<Figure size 640x480 with 1 Axes>"
            ],
            "image/png": "[encoded data removed]"
          },
          "metadata": {}
        }
      ]
    },
    {
      "cell_type": "markdown",
      "source": [
        "# User Section to Predict any new raw data\n",
        "\n",
        "This section is for the USER to resue the ANN Model. Put all you data ('LSHV', 'P', 'T', 'Wt') in this CSV file \"raw_data_for_prediction.csv\" and run the Google Colab with GPU, after that you will get the Predicted Sulfer Conversion Percentage."
      ],
      "metadata": {
        "id": "FsLuxvnPOcQZ"
      }
    },
    {
      "cell_type": "code",
      "source": [
        "test_data=pd.read_csv('raw_data_for_prediction.csv')"
      ],
      "metadata": {
        "id": "5YljwrBwa8BV"
      },
      "execution_count": null,
      "outputs": []
    },
    {
      "cell_type": "code",
      "source": [
        "ans = scaler.transform(test_data)"
      ],
      "metadata": {
        "id": "U1LdMRHvZBPT"
      },
      "execution_count": null,
      "outputs": []
    },
    {
      "cell_type": "code",
      "source": [
        "ans"
      ],
      "metadata": {
        "colab": {
          "base_uri": "https://localhost:8080/"
        },
        "id": "TQmg7EaHaL4c",
        "outputId": "f5b1e233-d05c-435f-82dd-241abc89a35a"
      },
      "execution_count": null,
      "outputs": [
        {
          "output_type": "execute_result",
          "data": {
            "text/plain": [
              "array([[ 7.50000000e-01,  5.00000000e-01,  7.50000000e-01,\n",
              "         4.35597826e-01],\n",
              "       [ 1.00000000e+00,  5.00000000e-01,  7.50000000e-01,\n",
              "         4.99728261e-01],\n",
              "       [ 0.00000000e+00,  5.00000000e-01,  1.00000000e+00,\n",
              "        -2.71739130e-04],\n",
              "       [ 2.50000000e-01,  5.00000000e-01,  1.00000000e+00,\n",
              "         9.94565217e-02],\n",
              "       [ 5.00000000e-01,  5.00000000e-01,  1.00000000e+00,\n",
              "         1.99456522e-01],\n",
              "       [ 7.50000000e-01,  5.00000000e-01,  1.00000000e+00,\n",
              "         3.19836957e-01],\n",
              "       [ 1.00000000e+00,  5.00000000e-01,  1.00000000e+00,\n",
              "         3.60054348e-01]])"
            ]
          },
          "metadata": {},
          "execution_count": 22
        }
      ]
    },
    {
      "cell_type": "markdown",
      "source": [
        "# Predicted Sulfer Conversion Percentage\n",
        "This is the Predicted Sulfer Conversion Percentage from ANN Model base on the data you provided in the CSV file above (raw_data_for_prediction.csv)."
      ],
      "metadata": {
        "id": "eQMzkyz3Qmeh"
      }
    },
    {
      "cell_type": "code",
      "source": [
        "model.predict(ans)"
      ],
      "metadata": {
        "colab": {
          "base_uri": "https://localhost:8080/"
        },
        "id": "jK7qGAH-aMuN",
        "outputId": "3b6ac29e-2a4b-4fa8-ae1d-055b89877e20"
      },
      "execution_count": null,
      "outputs": [
        {
          "output_type": "stream",
          "name": "stdout",
          "text": [
            "1/1 [==============================] - 0s 26ms/step\n"
          ]
        },
        {
          "output_type": "execute_result",
          "data": {
            "text/plain": [
              "array([[68.22689 ],\n",
              "       [65.02032 ],\n",
              "       [90.02494 ],\n",
              "       [85.037964],\n",
              "       [80.0374  ],\n",
              "       [74.017525],\n",
              "       [72.006935]], dtype=float32)"
            ]
          },
          "metadata": {},
          "execution_count": 23
        }
      ]
    },
    {
      "cell_type": "markdown",
      "source": [
        "# Thank You\n",
        "Thanks a lot to give me the opportunity to work with you. Feel free to knock if you are stuck at any point."
      ],
      "metadata": {
        "id": "Juc-cw2rRGB2"
      }
    }
  ]
}